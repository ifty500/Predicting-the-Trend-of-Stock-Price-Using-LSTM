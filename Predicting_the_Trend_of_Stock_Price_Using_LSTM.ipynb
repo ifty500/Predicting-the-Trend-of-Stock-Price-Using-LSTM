{
  "nbformat": 4,
  "nbformat_minor": 0,
  "metadata": {
    "kernelspec": {
      "display_name": "py3.7",
      "language": "python",
      "name": "py3.7"
    },
    "language_info": {
      "codemirror_mode": {
        "name": "ipython",
        "version": 3
      },
      "file_extension": ".py",
      "mimetype": "text/x-python",
      "name": "python",
      "nbconvert_exporter": "python",
      "pygments_lexer": "ipython3",
      "version": "3.7.2"
    },
    "colab": {
      "name": "Predicting the Trend of Stock Price Using LSTM.ipynb",
      "provenance": []
    }
  },
  "cells": [
    {
      "cell_type": "code",
      "metadata": {
        "id": "ePe_d1v0hr4_"
      },
      "source": [
        "import numpy as np\n",
        "import matplotlib.pyplot as plt\n",
        "import pandas as pd\n",
        "from tensorflow import random"
      ],
      "execution_count": 3,
      "outputs": []
    },
    {
      "cell_type": "code",
      "metadata": {
        "id": "keVii_4Ehr5F",
        "outputId": "ef230b19-e84b-4ae2-813f-2fc3c6eda27b",
        "colab": {
          "base_uri": "https://localhost:8080/",
          "height": 195
        }
      },
      "source": [
        "dataset_training = pd.read_csv('/content/drive/My Drive/all_dataset/stock_dataset/AMZN_train.csv')\n",
        "dataset_training.head()"
      ],
      "execution_count": 4,
      "outputs": [
        {
          "output_type": "execute_result",
          "data": {
            "text/html": [
              "<div>\n",
              "<style scoped>\n",
              "    .dataframe tbody tr th:only-of-type {\n",
              "        vertical-align: middle;\n",
              "    }\n",
              "\n",
              "    .dataframe tbody tr th {\n",
              "        vertical-align: top;\n",
              "    }\n",
              "\n",
              "    .dataframe thead th {\n",
              "        text-align: right;\n",
              "    }\n",
              "</style>\n",
              "<table border=\"1\" class=\"dataframe\">\n",
              "  <thead>\n",
              "    <tr style=\"text-align: right;\">\n",
              "      <th></th>\n",
              "      <th>Date</th>\n",
              "      <th>Open</th>\n",
              "      <th>High</th>\n",
              "      <th>Low</th>\n",
              "      <th>Close</th>\n",
              "      <th>Adj Close</th>\n",
              "      <th>Volume</th>\n",
              "    </tr>\n",
              "  </thead>\n",
              "  <tbody>\n",
              "    <tr>\n",
              "      <th>0</th>\n",
              "      <td>2014-01-02</td>\n",
              "      <td>398.799988</td>\n",
              "      <td>399.359985</td>\n",
              "      <td>394.019989</td>\n",
              "      <td>397.970001</td>\n",
              "      <td>397.970001</td>\n",
              "      <td>2137800</td>\n",
              "    </tr>\n",
              "    <tr>\n",
              "      <th>1</th>\n",
              "      <td>2014-01-03</td>\n",
              "      <td>398.290009</td>\n",
              "      <td>402.709991</td>\n",
              "      <td>396.220001</td>\n",
              "      <td>396.440002</td>\n",
              "      <td>396.440002</td>\n",
              "      <td>2210200</td>\n",
              "    </tr>\n",
              "    <tr>\n",
              "      <th>2</th>\n",
              "      <td>2014-01-06</td>\n",
              "      <td>395.850006</td>\n",
              "      <td>397.000000</td>\n",
              "      <td>388.420013</td>\n",
              "      <td>393.630005</td>\n",
              "      <td>393.630005</td>\n",
              "      <td>3170600</td>\n",
              "    </tr>\n",
              "    <tr>\n",
              "      <th>3</th>\n",
              "      <td>2014-01-07</td>\n",
              "      <td>395.040009</td>\n",
              "      <td>398.470001</td>\n",
              "      <td>394.290009</td>\n",
              "      <td>398.029999</td>\n",
              "      <td>398.029999</td>\n",
              "      <td>1916000</td>\n",
              "    </tr>\n",
              "    <tr>\n",
              "      <th>4</th>\n",
              "      <td>2014-01-08</td>\n",
              "      <td>398.470001</td>\n",
              "      <td>403.000000</td>\n",
              "      <td>396.040009</td>\n",
              "      <td>401.920013</td>\n",
              "      <td>401.920013</td>\n",
              "      <td>2316500</td>\n",
              "    </tr>\n",
              "  </tbody>\n",
              "</table>\n",
              "</div>"
            ],
            "text/plain": [
              "         Date        Open        High  ...       Close   Adj Close   Volume\n",
              "0  2014-01-02  398.799988  399.359985  ...  397.970001  397.970001  2137800\n",
              "1  2014-01-03  398.290009  402.709991  ...  396.440002  396.440002  2210200\n",
              "2  2014-01-06  395.850006  397.000000  ...  393.630005  393.630005  3170600\n",
              "3  2014-01-07  395.040009  398.470001  ...  398.029999  398.029999  1916000\n",
              "4  2014-01-08  398.470001  403.000000  ...  401.920013  401.920013  2316500\n",
              "\n",
              "[5 rows x 7 columns]"
            ]
          },
          "metadata": {
            "tags": []
          },
          "execution_count": 4
        }
      ]
    },
    {
      "cell_type": "code",
      "metadata": {
        "id": "BO4Ih2tnhr5K",
        "outputId": "899136a1-c034-4818-e0e2-995fdf6bc9fc",
        "colab": {
          "base_uri": "https://localhost:8080/",
          "height": 134
        }
      },
      "source": [
        "training_data = dataset_training[['Open']].values\n",
        "training_data"
      ],
      "execution_count": 5,
      "outputs": [
        {
          "output_type": "execute_result",
          "data": {
            "text/plain": [
              "array([[ 398.799988],\n",
              "       [ 398.290009],\n",
              "       [ 395.850006],\n",
              "       ...,\n",
              "       [1454.199951],\n",
              "       [1473.349976],\n",
              "       [1510.800049]])"
            ]
          },
          "metadata": {
            "tags": []
          },
          "execution_count": 5
        }
      ]
    },
    {
      "cell_type": "code",
      "metadata": {
        "id": "cVLh-KmAhr5O",
        "outputId": "ed8c34c3-c881-49c5-af5a-6a0918854221",
        "colab": {
          "base_uri": "https://localhost:8080/",
          "height": 134
        }
      },
      "source": [
        "from sklearn.preprocessing import MinMaxScaler\n",
        "sc = MinMaxScaler(feature_range = (0, 1))\n",
        "training_data_scaled = sc.fit_transform(training_data)\n",
        "\n",
        "training_data_scaled "
      ],
      "execution_count": 6,
      "outputs": [
        {
          "output_type": "execute_result",
          "data": {
            "text/plain": [
              "array([[0.06523313],\n",
              "       [0.06494233],\n",
              "       [0.06355099],\n",
              "       ...,\n",
              "       [0.66704299],\n",
              "       [0.67796271],\n",
              "       [0.69931748]])"
            ]
          },
          "metadata": {
            "tags": []
          },
          "execution_count": 6
        }
      ]
    },
    {
      "cell_type": "code",
      "metadata": {
        "id": "GJjPqMoDhr5T"
      },
      "source": [
        "X_train = []\n",
        "y_train = []\n",
        "for i in range(60, 1258):\n",
        "    X_train.append(training_data_scaled[i-60:i, 0])\n",
        "    y_train.append(training_data_scaled[i, 0])\n",
        "X_train, y_train = np.array(X_train), np.array(y_train)"
      ],
      "execution_count": 7,
      "outputs": []
    },
    {
      "cell_type": "code",
      "metadata": {
        "id": "QTzXBHbehr5W",
        "outputId": "704c1f13-1b66-4837-f9c8-45a86d7116f5",
        "colab": {
          "base_uri": "https://localhost:8080/",
          "height": 840
        }
      },
      "source": [
        "X_train = np.reshape(X_train, (X_train.shape[0], X_train.shape[1], 1))\n",
        "X_train"
      ],
      "execution_count": 8,
      "outputs": [
        {
          "output_type": "execute_result",
          "data": {
            "text/plain": [
              "array([[[0.06523313],\n",
              "        [0.06494233],\n",
              "        [0.06355099],\n",
              "        ...,\n",
              "        [0.04147209],\n",
              "        [0.03350041],\n",
              "        [0.03173272]],\n",
              "\n",
              "       [[0.06494233],\n",
              "        [0.06355099],\n",
              "        [0.06308912],\n",
              "        ...,\n",
              "        [0.03350041],\n",
              "        [0.03173272],\n",
              "        [0.03307274]],\n",
              "\n",
              "       [[0.06355099],\n",
              "        [0.06308912],\n",
              "        [0.06504497],\n",
              "        ...,\n",
              "        [0.03173272],\n",
              "        [0.03307274],\n",
              "        [0.0306151 ]],\n",
              "\n",
              "       ...,\n",
              "\n",
              "       [[0.99080806],\n",
              "        [0.97826323],\n",
              "        [0.96783389],\n",
              "        ...,\n",
              "        [0.67319568],\n",
              "        [0.60534525],\n",
              "        [0.61839758]],\n",
              "\n",
              "       [[0.97826323],\n",
              "        [0.96783389],\n",
              "        [0.94918773],\n",
              "        ...,\n",
              "        [0.60534525],\n",
              "        [0.61839758],\n",
              "        [0.66704299]],\n",
              "\n",
              "       [[0.96783389],\n",
              "        [0.94918773],\n",
              "        [0.93150521],\n",
              "        ...,\n",
              "        [0.61839758],\n",
              "        [0.66704299],\n",
              "        [0.67796271]]])"
            ]
          },
          "metadata": {
            "tags": []
          },
          "execution_count": 8
        }
      ]
    },
    {
      "cell_type": "markdown",
      "metadata": {
        "id": "IDNzJwkihr5b"
      },
      "source": [
        "Create & Compile an RNN Architecure "
      ]
    },
    {
      "cell_type": "code",
      "metadata": {
        "id": "mCrk4n6chr5b"
      },
      "source": [
        "from keras.models import Sequential\n",
        "from keras.layers import Dense\n",
        "from keras.layers import LSTM\n",
        "from keras.layers import Dropout"
      ],
      "execution_count": 9,
      "outputs": []
    },
    {
      "cell_type": "code",
      "metadata": {
        "id": "zRTaSzv_hr5f"
      },
      "source": [
        "seed = 1\n",
        "np.random.seed(seed)\n",
        "random.set_seed(seed)\n",
        "\n",
        "model = Sequential()"
      ],
      "execution_count": 10,
      "outputs": []
    },
    {
      "cell_type": "code",
      "metadata": {
        "id": "4L2N5JU3hr5i"
      },
      "source": [
        "model.add(LSTM(units = 100, return_sequences = True, input_shape = (X_train.shape[1], 1)))\n",
        "\n",
        "# Adding a second LSTM layer and some Dropout regularisation\n",
        "model.add(LSTM(units = 100, return_sequences = True))\n",
        "\n",
        "# Adding a third LSTM layer and some Dropout regularisation\n",
        "model.add(LSTM(units = 100, return_sequences = True))\n",
        "\n",
        "# Adding a fourth LSTM layer and some Dropout regularisation\n",
        "model.add(LSTM(units = 100))\n",
        "\n",
        "# Adding the output layer\n",
        "model.add(Dense(units = 1))"
      ],
      "execution_count": 11,
      "outputs": []
    },
    {
      "cell_type": "code",
      "metadata": {
        "id": "qmx7Ebmchr5m",
        "outputId": "4daacd45-849c-42ea-878f-4884d58ff9d9",
        "colab": {
          "base_uri": "https://localhost:8080/",
          "height": 1000
        }
      },
      "source": [
        "# Compiling the RNN\n",
        "model.compile(optimizer = 'adam', loss = 'mean_squared_error')\n",
        "\n",
        "# Fitting the RNN to the Training set\n",
        "model.fit(X_train, y_train, epochs = 100, batch_size = 32)"
      ],
      "execution_count": 12,
      "outputs": [
        {
          "output_type": "stream",
          "text": [
            "Epoch 1/100\n",
            "38/38 [==============================] - 7s 181ms/step - loss: 0.0191\n",
            "Epoch 2/100\n",
            "38/38 [==============================] - 7s 179ms/step - loss: 0.0012\n",
            "Epoch 3/100\n",
            "38/38 [==============================] - 7s 179ms/step - loss: 9.8636e-04\n",
            "Epoch 4/100\n",
            "38/38 [==============================] - 7s 180ms/step - loss: 0.0015\n",
            "Epoch 5/100\n",
            "38/38 [==============================] - 7s 179ms/step - loss: 0.0011\n",
            "Epoch 6/100\n",
            "38/38 [==============================] - 7s 180ms/step - loss: 0.0011\n",
            "Epoch 7/100\n",
            "38/38 [==============================] - 7s 182ms/step - loss: 9.3201e-04\n",
            "Epoch 8/100\n",
            "38/38 [==============================] - 7s 185ms/step - loss: 8.7021e-04\n",
            "Epoch 9/100\n",
            "38/38 [==============================] - 7s 187ms/step - loss: 9.7092e-04\n",
            "Epoch 10/100\n",
            "38/38 [==============================] - 7s 181ms/step - loss: 0.0010\n",
            "Epoch 11/100\n",
            "38/38 [==============================] - 7s 181ms/step - loss: 8.5824e-04\n",
            "Epoch 12/100\n",
            "38/38 [==============================] - 7s 181ms/step - loss: 7.8040e-04\n",
            "Epoch 13/100\n",
            "38/38 [==============================] - 7s 182ms/step - loss: 7.9910e-04\n",
            "Epoch 14/100\n",
            "38/38 [==============================] - 7s 183ms/step - loss: 7.5349e-04\n",
            "Epoch 15/100\n",
            "38/38 [==============================] - 7s 183ms/step - loss: 9.1988e-04\n",
            "Epoch 16/100\n",
            "38/38 [==============================] - 7s 185ms/step - loss: 7.4861e-04\n",
            "Epoch 17/100\n",
            "38/38 [==============================] - 7s 182ms/step - loss: 9.7187e-04\n",
            "Epoch 18/100\n",
            "38/38 [==============================] - 7s 183ms/step - loss: 0.0012\n",
            "Epoch 19/100\n",
            "38/38 [==============================] - 7s 184ms/step - loss: 7.2810e-04\n",
            "Epoch 20/100\n",
            "38/38 [==============================] - 7s 183ms/step - loss: 8.0650e-04\n",
            "Epoch 21/100\n",
            "38/38 [==============================] - 7s 184ms/step - loss: 7.8947e-04\n",
            "Epoch 22/100\n",
            "38/38 [==============================] - 7s 184ms/step - loss: 6.7399e-04\n",
            "Epoch 23/100\n",
            "38/38 [==============================] - 7s 182ms/step - loss: 6.1745e-04\n",
            "Epoch 24/100\n",
            "38/38 [==============================] - 7s 180ms/step - loss: 5.8362e-04\n",
            "Epoch 25/100\n",
            "38/38 [==============================] - 7s 182ms/step - loss: 7.2228e-04\n",
            "Epoch 26/100\n",
            "38/38 [==============================] - 7s 181ms/step - loss: 5.7093e-04\n",
            "Epoch 27/100\n",
            "38/38 [==============================] - 7s 185ms/step - loss: 6.1067e-04\n",
            "Epoch 28/100\n",
            "38/38 [==============================] - 7s 186ms/step - loss: 6.1797e-04\n",
            "Epoch 29/100\n",
            "38/38 [==============================] - 7s 182ms/step - loss: 5.0539e-04\n",
            "Epoch 30/100\n",
            "38/38 [==============================] - 7s 192ms/step - loss: 7.6461e-04\n",
            "Epoch 31/100\n",
            "38/38 [==============================] - 7s 182ms/step - loss: 7.7993e-04\n",
            "Epoch 32/100\n",
            "38/38 [==============================] - 7s 182ms/step - loss: 4.7882e-04\n",
            "Epoch 33/100\n",
            "38/38 [==============================] - 7s 186ms/step - loss: 4.8679e-04\n",
            "Epoch 34/100\n",
            "38/38 [==============================] - 7s 188ms/step - loss: 4.9596e-04\n",
            "Epoch 35/100\n",
            "38/38 [==============================] - 7s 186ms/step - loss: 4.5253e-04\n",
            "Epoch 36/100\n",
            "38/38 [==============================] - 7s 186ms/step - loss: 6.2128e-04\n",
            "Epoch 37/100\n",
            "38/38 [==============================] - 7s 185ms/step - loss: 3.2530e-04\n",
            "Epoch 38/100\n",
            "38/38 [==============================] - 7s 186ms/step - loss: 3.2158e-04\n",
            "Epoch 39/100\n",
            "38/38 [==============================] - 7s 186ms/step - loss: 3.6138e-04\n",
            "Epoch 40/100\n",
            "38/38 [==============================] - 7s 187ms/step - loss: 2.9401e-04\n",
            "Epoch 41/100\n",
            "38/38 [==============================] - 7s 189ms/step - loss: 4.1968e-04\n",
            "Epoch 42/100\n",
            "38/38 [==============================] - 7s 185ms/step - loss: 3.5199e-04\n",
            "Epoch 43/100\n",
            "38/38 [==============================] - 7s 187ms/step - loss: 2.5534e-04\n",
            "Epoch 44/100\n",
            "38/38 [==============================] - 7s 187ms/step - loss: 2.8831e-04\n",
            "Epoch 45/100\n",
            "38/38 [==============================] - 7s 187ms/step - loss: 2.8554e-04\n",
            "Epoch 46/100\n",
            "38/38 [==============================] - 7s 186ms/step - loss: 2.6156e-04\n",
            "Epoch 47/100\n",
            "38/38 [==============================] - 7s 187ms/step - loss: 4.6921e-04\n",
            "Epoch 48/100\n",
            "38/38 [==============================] - 7s 186ms/step - loss: 2.5326e-04\n",
            "Epoch 49/100\n",
            "38/38 [==============================] - 7s 185ms/step - loss: 2.8730e-04\n",
            "Epoch 50/100\n",
            "38/38 [==============================] - 7s 188ms/step - loss: 2.3824e-04\n",
            "Epoch 51/100\n",
            "38/38 [==============================] - 7s 192ms/step - loss: 2.3756e-04\n",
            "Epoch 52/100\n",
            "38/38 [==============================] - 7s 196ms/step - loss: 2.7098e-04\n",
            "Epoch 53/100\n",
            "38/38 [==============================] - 8s 198ms/step - loss: 2.8579e-04\n",
            "Epoch 54/100\n",
            "38/38 [==============================] - 7s 191ms/step - loss: 2.3278e-04\n",
            "Epoch 55/100\n",
            "38/38 [==============================] - 7s 190ms/step - loss: 2.4365e-04\n",
            "Epoch 56/100\n",
            "38/38 [==============================] - 7s 188ms/step - loss: 2.0880e-04\n",
            "Epoch 57/100\n",
            "38/38 [==============================] - 7s 192ms/step - loss: 3.1350e-04\n",
            "Epoch 58/100\n",
            "38/38 [==============================] - 7s 192ms/step - loss: 2.3396e-04\n",
            "Epoch 59/100\n",
            "38/38 [==============================] - 7s 188ms/step - loss: 2.2349e-04\n",
            "Epoch 60/100\n",
            "38/38 [==============================] - 7s 191ms/step - loss: 2.0155e-04\n",
            "Epoch 61/100\n",
            "38/38 [==============================] - 7s 189ms/step - loss: 2.1705e-04\n",
            "Epoch 62/100\n",
            "38/38 [==============================] - 7s 189ms/step - loss: 2.2991e-04\n",
            "Epoch 63/100\n",
            "38/38 [==============================] - 7s 190ms/step - loss: 2.4631e-04\n",
            "Epoch 64/100\n",
            "38/38 [==============================] - 7s 192ms/step - loss: 2.4782e-04\n",
            "Epoch 65/100\n",
            "38/38 [==============================] - 7s 190ms/step - loss: 4.2405e-04\n",
            "Epoch 66/100\n",
            "38/38 [==============================] - 7s 194ms/step - loss: 3.3186e-04\n",
            "Epoch 67/100\n",
            "38/38 [==============================] - 7s 191ms/step - loss: 2.4598e-04\n",
            "Epoch 68/100\n",
            "38/38 [==============================] - 7s 194ms/step - loss: 2.0511e-04\n",
            "Epoch 69/100\n",
            "38/38 [==============================] - 7s 188ms/step - loss: 1.9182e-04\n",
            "Epoch 70/100\n",
            "38/38 [==============================] - 7s 191ms/step - loss: 2.1081e-04\n",
            "Epoch 71/100\n",
            "38/38 [==============================] - 7s 192ms/step - loss: 2.2174e-04\n",
            "Epoch 72/100\n",
            "38/38 [==============================] - 8s 198ms/step - loss: 1.9831e-04\n",
            "Epoch 73/100\n",
            "38/38 [==============================] - 7s 188ms/step - loss: 1.8876e-04\n",
            "Epoch 74/100\n",
            "38/38 [==============================] - 7s 192ms/step - loss: 2.3552e-04\n",
            "Epoch 75/100\n",
            "38/38 [==============================] - 7s 191ms/step - loss: 3.0241e-04\n",
            "Epoch 76/100\n",
            "38/38 [==============================] - 7s 190ms/step - loss: 2.0733e-04\n",
            "Epoch 77/100\n",
            "38/38 [==============================] - 7s 189ms/step - loss: 1.8319e-04\n",
            "Epoch 78/100\n",
            "38/38 [==============================] - 7s 191ms/step - loss: 2.0914e-04\n",
            "Epoch 79/100\n",
            "38/38 [==============================] - 7s 189ms/step - loss: 2.0585e-04\n",
            "Epoch 80/100\n",
            "38/38 [==============================] - 7s 192ms/step - loss: 2.0458e-04\n",
            "Epoch 81/100\n",
            "38/38 [==============================] - 7s 188ms/step - loss: 2.4601e-04\n",
            "Epoch 82/100\n",
            "38/38 [==============================] - 7s 194ms/step - loss: 3.3345e-04\n",
            "Epoch 83/100\n",
            "38/38 [==============================] - 7s 188ms/step - loss: 2.1186e-04\n",
            "Epoch 84/100\n",
            "38/38 [==============================] - 7s 192ms/step - loss: 1.8871e-04\n",
            "Epoch 85/100\n",
            "38/38 [==============================] - 7s 190ms/step - loss: 1.9871e-04\n",
            "Epoch 86/100\n",
            "38/38 [==============================] - 7s 191ms/step - loss: 1.9491e-04\n",
            "Epoch 87/100\n",
            "38/38 [==============================] - 7s 189ms/step - loss: 2.3893e-04\n",
            "Epoch 88/100\n",
            "38/38 [==============================] - 7s 190ms/step - loss: 2.2024e-04\n",
            "Epoch 89/100\n",
            "38/38 [==============================] - 7s 190ms/step - loss: 7.6103e-04\n",
            "Epoch 90/100\n",
            "38/38 [==============================] - 7s 194ms/step - loss: 3.0421e-04\n",
            "Epoch 91/100\n",
            "38/38 [==============================] - 7s 191ms/step - loss: 2.3215e-04\n",
            "Epoch 92/100\n",
            "38/38 [==============================] - 7s 189ms/step - loss: 2.4062e-04\n",
            "Epoch 93/100\n",
            "38/38 [==============================] - 7s 188ms/step - loss: 2.0001e-04\n",
            "Epoch 94/100\n",
            "38/38 [==============================] - 7s 192ms/step - loss: 5.2995e-04\n",
            "Epoch 95/100\n",
            "38/38 [==============================] - 8s 201ms/step - loss: 2.3641e-04\n",
            "Epoch 96/100\n",
            "38/38 [==============================] - 7s 188ms/step - loss: 2.4496e-04\n",
            "Epoch 97/100\n",
            "38/38 [==============================] - 7s 190ms/step - loss: 2.0003e-04\n",
            "Epoch 98/100\n",
            "38/38 [==============================] - 7s 194ms/step - loss: 2.3148e-04\n",
            "Epoch 99/100\n",
            "38/38 [==============================] - 7s 190ms/step - loss: 1.8404e-04\n",
            "Epoch 100/100\n",
            "38/38 [==============================] - 7s 190ms/step - loss: 1.9086e-04\n"
          ],
          "name": "stdout"
        },
        {
          "output_type": "execute_result",
          "data": {
            "text/plain": [
              "<tensorflow.python.keras.callbacks.History at 0x7fdd3516e630>"
            ]
          },
          "metadata": {
            "tags": []
          },
          "execution_count": 12
        }
      ]
    },
    {
      "cell_type": "markdown",
      "metadata": {
        "id": "kYIVUjWlhr5p"
      },
      "source": [
        "Prepare the Test Data , Concatenate Test &  Train Datasets"
      ]
    },
    {
      "cell_type": "code",
      "metadata": {
        "id": "CfhU6pT2hr5p",
        "outputId": "135239c5-a2c6-4d5f-fc13-29f2948af926",
        "colab": {
          "base_uri": "https://localhost:8080/",
          "height": 370
        }
      },
      "source": [
        "dataset_testing = pd.read_csv('/content/drive/My Drive/all_dataset/stock_dataset/AMZN_test.csv')\n",
        "actual_stock_price = dataset_testing[['Open']].values\n",
        "actual_stock_price"
      ],
      "execution_count": 13,
      "outputs": [
        {
          "output_type": "execute_result",
          "data": {
            "text/plain": [
              "array([[1465.199951],\n",
              "       [1520.01001 ],\n",
              "       [1530.      ],\n",
              "       [1602.310059],\n",
              "       [1664.689941],\n",
              "       [1652.97998 ],\n",
              "       [1641.01001 ],\n",
              "       [1640.550049],\n",
              "       [1615.      ],\n",
              "       [1632.      ],\n",
              "       [1684.219971],\n",
              "       [1680.      ],\n",
              "       [1712.      ],\n",
              "       [1681.      ],\n",
              "       [1656.      ],\n",
              "       [1641.069946],\n",
              "       [1670.5     ],\n",
              "       [1643.589966],\n",
              "       [1631.27002 ],\n",
              "       [1623.      ],\n",
              "       [1692.849976]])"
            ]
          },
          "metadata": {
            "tags": []
          },
          "execution_count": 13
        }
      ]
    },
    {
      "cell_type": "code",
      "metadata": {
        "id": "ublS7zzEhr5s"
      },
      "source": [
        "total_data = pd.concat((dataset_training['Open'], dataset_testing['Open']), axis = 0)\n",
        "inputs = total_data[len(total_data) - len(dataset_testing) - 60:].values\n",
        "inputs = inputs.reshape(-1,1)\n",
        "inputs = sc.transform(inputs)\n",
        "X_test = []\n",
        "for i in range(60, 81):\n",
        "    X_test.append(inputs[i-60:i, 0])\n",
        "X_test = np.array(X_test)\n",
        "X_test = np.reshape(X_test, (X_test.shape[0], X_test.shape[1], 1))\n",
        "\n",
        "predicted_stock_price = model.predict(X_test)\n",
        "predicted_stock_price = sc.inverse_transform(predicted_stock_price)"
      ],
      "execution_count": 14,
      "outputs": []
    },
    {
      "cell_type": "markdown",
      "metadata": {
        "id": "ghEvxsXphr5v"
      },
      "source": [
        "Visualize the Results"
      ]
    },
    {
      "cell_type": "code",
      "metadata": {
        "id": "CSvi-dVUhr5v",
        "outputId": "b73991df-ca6b-47fd-8b69-e628842488d7",
        "colab": {
          "base_uri": "https://localhost:8080/",
          "height": 295
        }
      },
      "source": [
        "# Visualising the results\n",
        "plt.plot(actual_stock_price, color = 'green', label = 'Real Amazon Stock Price',ls='--')\n",
        "plt.plot(predicted_stock_price, color = 'red', label = 'Predicted Amazon Stock Price',ls='-')\n",
        "plt.title('Predicted Stock Price')\n",
        "plt.xlabel('Time in days')\n",
        "plt.ylabel('Real Stock Price')\n",
        "plt.legend()\n",
        "plt.show()"
      ],
      "execution_count": 15,
      "outputs": [
        {
          "output_type": "display_data",
          "data": {
            "image/png": "[encoded data removed]",
            "text/plain": [
              "<Figure size 432x288 with 1 Axes>"
            ]
          },
          "metadata": {
            "tags": [],
            "needs_background": "light"
          }
        }
      ]
    },
    {
      "cell_type": "code",
      "metadata": {
        "id": "FRl84vuonBBT"
      },
      "source": [
        ""
      ],
      "execution_count": null,
      "outputs": []
    }
  ]
}