{
 "cells": [
  {
   "cell_type": "code",
   "execution_count": 1,
   "metadata": {
    "id": "ePe_d1v0hr4_"
   },
   "outputs": [],
   "source": [
    "import numpy as np\n",
    "import matplotlib.pyplot as plt\n",
    "import pandas as pd\n",
    "from tensorflow import random"
   ]
  },
  {
   "cell_type": "code",
   "execution_count": 2,
   "metadata": {
    "colab": {
     "base_uri": "https://localhost:8080/",
     "height": 195
    },
    "id": "keVii_4Ehr5F",
    "outputId": "ef230b19-e84b-4ae2-813f-2fc3c6eda27b"
   },
   "outputs": [
    {
     "data": {
      "text/html": [
       "<div>\n",
       "<style scoped>\n",
       "    .dataframe tbody tr th:only-of-type {\n",
       "        vertical-align: middle;\n",
       "    }\n",
       "\n",
       "    .dataframe tbody tr th {\n",
       "        vertical-align: top;\n",
       "    }\n",
       "\n",
       "    .dataframe thead th {\n",
       "        text-align: right;\n",
       "    }\n",
       "</style>\n",
       "<table border=\"1\" class=\"dataframe\">\n",
       "  <thead>\n",
       "    <tr style=\"text-align: right;\">\n",
       "      <th></th>\n",
       "      <th>Date</th>\n",
       "      <th>Open</th>\n",
       "      <th>High</th>\n",
       "      <th>Low</th>\n",
       "      <th>Close</th>\n",
       "      <th>Adj Close</th>\n",
       "      <th>Volume</th>\n",
       "    </tr>\n",
       "  </thead>\n",
       "  <tbody>\n",
       "    <tr>\n",
       "      <th>0</th>\n",
       "      <td>2014-01-02</td>\n",
       "      <td>398.799988</td>\n",
       "      <td>399.359985</td>\n",
       "      <td>394.019989</td>\n",
       "      <td>397.970001</td>\n",
       "      <td>397.970001</td>\n",
       "      <td>2137800</td>\n",
       "    </tr>\n",
       "    <tr>\n",
       "      <th>1</th>\n",
       "      <td>2014-01-03</td>\n",
       "      <td>398.290009</td>\n",
       "      <td>402.709991</td>\n",
       "      <td>396.220001</td>\n",
       "      <td>396.440002</td>\n",
       "      <td>396.440002</td>\n",
       "      <td>2210200</td>\n",
       "    </tr>\n",
       "    <tr>\n",
       "      <th>2</th>\n",
       "      <td>2014-01-06</td>\n",
       "      <td>395.850006</td>\n",
       "      <td>397.000000</td>\n",
       "      <td>388.420013</td>\n",
       "      <td>393.630005</td>\n",
       "      <td>393.630005</td>\n",
       "      <td>3170600</td>\n",
       "    </tr>\n",
       "    <tr>\n",
       "      <th>3</th>\n",
       "      <td>2014-01-07</td>\n",
       "      <td>395.040009</td>\n",
       "      <td>398.470001</td>\n",
       "      <td>394.290009</td>\n",
       "      <td>398.029999</td>\n",
       "      <td>398.029999</td>\n",
       "      <td>1916000</td>\n",
       "    </tr>\n",
       "    <tr>\n",
       "      <th>4</th>\n",
       "      <td>2014-01-08</td>\n",
       "      <td>398.470001</td>\n",
       "      <td>403.000000</td>\n",
       "      <td>396.040009</td>\n",
       "      <td>401.920013</td>\n",
       "      <td>401.920013</td>\n",
       "      <td>2316500</td>\n",
       "    </tr>\n",
       "  </tbody>\n",
       "</table>\n",
       "</div>"
      ],
      "text/plain": [
       "         Date        Open        High         Low       Close   Adj Close  \\\n",
       "0  2014-01-02  398.799988  399.359985  394.019989  397.970001  397.970001   \n",
       "1  2014-01-03  398.290009  402.709991  396.220001  396.440002  396.440002   \n",
       "2  2014-01-06  395.850006  397.000000  388.420013  393.630005  393.630005   \n",
       "3  2014-01-07  395.040009  398.470001  394.290009  398.029999  398.029999   \n",
       "4  2014-01-08  398.470001  403.000000  396.040009  401.920013  401.920013   \n",
       "\n",
       "    Volume  \n",
       "0  2137800  \n",
       "1  2210200  \n",
       "2  3170600  \n",
       "3  1916000  \n",
       "4  2316500  "
      ]
     },
     "execution_count": 2,
     "metadata": {},
     "output_type": "execute_result"
    }
   ],
   "source": [
    "dataset_training = pd.read_csv('F:/ML_project/project/testing/Predicting-the-Trend-of-Stock-Price-Using-LSTM/dataset/AMZN_train.csv')\n",
    "dataset_training.head()"
   ]
  },
  {
   "cell_type": "code",
   "execution_count": 3,
   "metadata": {
    "colab": {
     "base_uri": "https://localhost:8080/",
     "height": 134
    },
    "id": "BO4Ih2tnhr5K",
    "outputId": "899136a1-c034-4818-e0e2-995fdf6bc9fc"
   },
   "outputs": [
    {
     "data": {
      "text/plain": [
       "array([[ 398.799988],\n",
       "       [ 398.290009],\n",
       "       [ 395.850006],\n",
       "       ...,\n",
       "       [1454.199951],\n",
       "       [1473.349976],\n",
       "       [1510.800049]])"
      ]
     },
     "execution_count": 3,
     "metadata": {},
     "output_type": "execute_result"
    }
   ],
   "source": [
    "training_data = dataset_training[['Open']].values\n",
    "training_data"
   ]
  },
  {
   "cell_type": "code",
   "execution_count": 4,
   "metadata": {
    "colab": {
     "base_uri": "https://localhost:8080/",
     "height": 134
    },
    "id": "cVLh-KmAhr5O",
    "outputId": "ed8c34c3-c881-49c5-af5a-6a0918854221"
   },
   "outputs": [
    {
     "data": {
      "text/plain": [
       "array([[-0.88968649],\n",
       "       [-0.89075397],\n",
       "       [-0.89586134],\n",
       "       ...,\n",
       "       [ 1.31945839],\n",
       "       [ 1.35954289],\n",
       "       [ 1.43793273]])"
      ]
     },
     "execution_count": 4,
     "metadata": {},
     "output_type": "execute_result"
    }
   ],
   "source": [
    "# from sklearn.preprocessing import MinMaxScaler\n",
    "from sklearn.preprocessing import StandardScaler\n",
    "sc = StandardScaler()\n",
    "# sc = MinMaxScaler(feature_range = (0, 1))\n",
    "training_data_scaled = sc.fit_transform(training_data)\n",
    "\n",
    "training_data_scaled "
   ]
  },
  {
   "cell_type": "code",
   "execution_count": 5,
   "metadata": {
    "id": "GJjPqMoDhr5T"
   },
   "outputs": [],
   "source": [
    "X_train = []\n",
    "y_train = []\n",
    "for i in range(60, 1258):\n",
    "    X_train.append(training_data_scaled[i-60:i, 0])\n",
    "    y_train.append(training_data_scaled[i, 0])\n",
    "X_train, y_train = np.array(X_train), np.array(y_train)"
   ]
  },
  {
   "cell_type": "code",
   "execution_count": 6,
   "metadata": {
    "colab": {
     "base_uri": "https://localhost:8080/",
     "height": 840
    },
    "id": "QTzXBHbehr5W",
    "outputId": "704c1f13-1b66-4837-f9c8-45a86d7116f5"
   },
   "outputs": [
    {
     "data": {
      "text/plain": [
       "array([[[-0.88968649],\n",
       "        [-0.89075397],\n",
       "        [-0.89586134],\n",
       "        ...,\n",
       "        [-0.97690938],\n",
       "        [-1.00617209],\n",
       "        [-1.01266097]],\n",
       "\n",
       "       [[-0.89075397],\n",
       "        [-0.89586134],\n",
       "        [-0.89755682],\n",
       "        ...,\n",
       "        [-1.00617209],\n",
       "        [-1.01266097],\n",
       "        [-1.00774198]],\n",
       "\n",
       "       [[-0.89586134],\n",
       "        [-0.89755682],\n",
       "        [-0.89037722],\n",
       "        ...,\n",
       "        [-1.01266097],\n",
       "        [-1.00774198],\n",
       "        [-1.01676359]],\n",
       "\n",
       "       ...,\n",
       "\n",
       "       [[ 2.50794664],\n",
       "        [ 2.46189663],\n",
       "        [ 2.42361223],\n",
       "        ...,\n",
       "        [ 1.34204391],\n",
       "        [ 1.09297613],\n",
       "        [ 1.14088911]],\n",
       "\n",
       "       [[ 2.46189663],\n",
       "        [ 2.42361223],\n",
       "        [ 2.35516526],\n",
       "        ...,\n",
       "        [ 1.09297613],\n",
       "        [ 1.14088911],\n",
       "        [ 1.31945839]],\n",
       "\n",
       "       [[ 2.42361223],\n",
       "        [ 2.35516526],\n",
       "        [ 2.29025565],\n",
       "        ...,\n",
       "        [ 1.14088911],\n",
       "        [ 1.31945839],\n",
       "        [ 1.35954289]]])"
      ]
     },
     "execution_count": 6,
     "metadata": {},
     "output_type": "execute_result"
    }
   ],
   "source": [
    "X_train = np.reshape(X_train, (X_train.shape[0], X_train.shape[1], 1))\n",
    "X_train"
   ]
  },
  {
   "cell_type": "markdown",
   "metadata": {
    "id": "IDNzJwkihr5b"
   },
   "source": [
    "Create & Compile an RNN Architecure "
   ]
  },
  {
   "cell_type": "code",
   "execution_count": 7,
   "metadata": {
    "id": "mCrk4n6chr5b"
   },
   "outputs": [],
   "source": [
    "from keras.models import Sequential\n",
    "from keras.layers import Dense\n",
    "from keras.layers import LSTM\n",
    "from keras.layers import Dropout"
   ]
  },
  {
   "cell_type": "code",
   "execution_count": 8,
   "metadata": {
    "id": "zRTaSzv_hr5f"
   },
   "outputs": [],
   "source": [
    "seed = 1\n",
    "np.random.seed(seed)\n",
    "random.set_seed(seed)\n",
    "\n",
    "model = Sequential()"
   ]
  },
  {
   "cell_type": "code",
   "execution_count": 9,
   "metadata": {
    "id": "4L2N5JU3hr5i"
   },
   "outputs": [],
   "source": [
    "model.add(LSTM(units = 100, return_sequences = True, input_shape = (X_train.shape[1], 1)))\n",
    "\n",
    "# Adding a second LSTM layer and some Dropout regularisation\n",
    "model.add(LSTM(units = 100, return_sequences = True))\n",
    "\n",
    "# Adding a third LSTM layer and some Dropout regularisation\n",
    "model.add(LSTM(units = 100, return_sequences = True))\n",
    "\n",
    "# Adding a fourth LSTM layer and some Dropout regularisation\n",
    "model.add(LSTM(units = 100))\n",
    "\n",
    "# Adding the output layer\n",
    "model.add(Dense(units = 1))"
   ]
  },
  {
   "cell_type": "code",
   "execution_count": 10,
   "metadata": {
    "colab": {
     "base_uri": "https://localhost:8080/",
     "height": 1000
    },
    "id": "qmx7Ebmchr5m",
    "outputId": "4daacd45-849c-42ea-878f-4884d58ff9d9"
   },
   "outputs": [
    {
     "name": "stdout",
     "output_type": "stream",
     "text": [
      "Epoch 1/100\n",
      "38/38 [==============================] - 6s 171ms/step - loss: 0.1040\n",
      "Epoch 2/100\n",
      "38/38 [==============================] - 6s 160ms/step - loss: 0.0136\n",
      "Epoch 3/100\n",
      "38/38 [==============================] - 7s 186ms/step - loss: 0.0153\n",
      "Epoch 4/100\n",
      "38/38 [==============================] - 8s 199ms/step - loss: 0.0202\n",
      "Epoch 5/100\n",
      "38/38 [==============================] - 7s 179ms/step - loss: 0.0115\n",
      "Epoch 6/100\n",
      "38/38 [==============================] - 7s 180ms/step - loss: 0.0112\n",
      "Epoch 7/100\n",
      "38/38 [==============================] - 7s 182ms/step - loss: 0.0104\n",
      "Epoch 8/100\n",
      "38/38 [==============================] - 7s 192ms/step - loss: 0.0124\n",
      "Epoch 9/100\n",
      "38/38 [==============================] - 7s 183ms/step - loss: 0.0099\n",
      "Epoch 10/100\n",
      "38/38 [==============================] - 7s 193ms/step - loss: 0.0093 1s - loss:\n",
      "Epoch 11/100\n",
      "38/38 [==============================] - 8s 208ms/step - loss: 0.0096\n",
      "Epoch 12/100\n",
      "38/38 [==============================] - 7s 196ms/step - loss: 0.0081 \n",
      "Epoch 13/100\n",
      "38/38 [==============================] - 8s 198ms/step - loss: 0.0077\n",
      "Epoch 14/100\n",
      "38/38 [==============================] - 8s 212ms/step - loss: 0.0070\n",
      "Epoch 15/100\n",
      "38/38 [==============================] - 7s 179ms/step - loss: 0.0068\n",
      "Epoch 16/100\n",
      "38/38 [==============================] - 7s 179ms/step - loss: 0.0059\n",
      "Epoch 17/100\n",
      "38/38 [==============================] - 7s 185ms/step - loss: 0.0058 4s - loss - ETA:\n",
      "Epoch 18/100\n",
      "38/38 [==============================] - 7s 178ms/step - loss: 0.0050\n",
      "Epoch 19/100\n",
      "38/38 [==============================] - 6s 167ms/step - loss: 0.0053\n",
      "Epoch 20/100\n",
      "38/38 [==============================] - 6s 166ms/step - loss: 0.0044\n",
      "Epoch 21/100\n",
      "38/38 [==============================] - 6s 170ms/step - loss: 0.0044\n",
      "Epoch 22/100\n",
      "38/38 [==============================] - 7s 175ms/step - loss: 0.0048\n",
      "Epoch 23/100\n",
      "38/38 [==============================] - 6s 171ms/step - loss: 0.0044\n",
      "Epoch 24/100\n",
      "38/38 [==============================] - 7s 172ms/step - loss: 0.0042\n",
      "Epoch 25/100\n",
      "38/38 [==============================] - 6s 168ms/step - loss: 0.0044\n",
      "Epoch 26/100\n",
      "38/38 [==============================] - 6s 165ms/step - loss: 0.0036\n",
      "Epoch 27/100\n",
      "38/38 [==============================] - 6s 167ms/step - loss: 0.0056\n",
      "Epoch 28/100\n",
      "38/38 [==============================] - 7s 174ms/step - loss: 0.0045\n",
      "Epoch 29/100\n",
      "38/38 [==============================] - 7s 173ms/step - loss: 0.0035\n",
      "Epoch 30/100\n",
      "38/38 [==============================] - 7s 172ms/step - loss: 0.0066\n",
      "Epoch 31/100\n",
      "38/38 [==============================] - 6s 171ms/step - loss: 0.0046\n",
      "Epoch 32/100\n",
      "38/38 [==============================] - 7s 174ms/step - loss: 0.0034\n",
      "Epoch 33/100\n",
      "38/38 [==============================] - 6s 167ms/step - loss: 0.0035\n",
      "Epoch 34/100\n",
      "38/38 [==============================] - 6s 167ms/step - loss: 0.0030\n",
      "Epoch 35/100\n",
      "38/38 [==============================] - 7s 177ms/step - loss: 0.0036\n",
      "Epoch 36/100\n",
      "38/38 [==============================] - 7s 176ms/step - loss: 0.0056 1s - loss\n",
      "Epoch 37/100\n",
      "38/38 [==============================] - 6s 168ms/step - loss: 0.0038\n",
      "Epoch 38/100\n",
      "38/38 [==============================] - 7s 173ms/step - loss: 0.0030\n",
      "Epoch 39/100\n",
      "38/38 [==============================] - 6s 167ms/step - loss: 0.0035\n",
      "Epoch 40/100\n",
      "38/38 [==============================] - 6s 167ms/step - loss: 0.0031\n",
      "Epoch 41/100\n",
      "38/38 [==============================] - 6s 168ms/step - loss: 0.0032\n",
      "Epoch 42/100\n",
      "38/38 [==============================] - 6s 167ms/step - loss: 0.0031\n",
      "Epoch 43/100\n",
      "38/38 [==============================] - 6s 166ms/step - loss: 0.0032\n",
      "Epoch 44/100\n",
      "38/38 [==============================] - 7s 180ms/step - loss: 0.0028\n",
      "Epoch 45/100\n",
      "38/38 [==============================] - 7s 177ms/step - loss: 0.0030\n",
      "Epoch 46/100\n",
      "38/38 [==============================] - 7s 171ms/step - loss: 0.0029\n",
      "Epoch 47/100\n",
      "38/38 [==============================] - 6s 165ms/step - loss: 0.0034\n",
      "Epoch 48/100\n",
      "38/38 [==============================] - 6s 167ms/step - loss: 0.0032\n",
      "Epoch 49/100\n",
      "38/38 [==============================] - 6s 166ms/step - loss: 0.0030\n",
      "Epoch 50/100\n",
      "38/38 [==============================] - 6s 166ms/step - loss: 0.0028\n",
      "Epoch 51/100\n",
      "38/38 [==============================] - 6s 168ms/step - loss: 0.0031\n",
      "Epoch 52/100\n",
      "38/38 [==============================] - 6s 165ms/step - loss: 0.0030\n",
      "Epoch 53/100\n",
      "38/38 [==============================] - 7s 172ms/step - loss: 0.0032\n",
      "Epoch 54/100\n",
      "38/38 [==============================] - 6s 164ms/step - loss: 0.0033\n",
      "Epoch 55/100\n",
      "38/38 [==============================] - 6s 169ms/step - loss: 0.0035\n",
      "Epoch 56/100\n",
      "38/38 [==============================] - 6s 165ms/step - loss: 0.0031\n",
      "Epoch 57/100\n",
      "38/38 [==============================] - 6s 164ms/step - loss: 0.0025\n",
      "Epoch 58/100\n",
      "38/38 [==============================] - 6s 166ms/step - loss: 0.0034\n",
      "Epoch 59/100\n",
      "38/38 [==============================] - 6s 170ms/step - loss: 0.0038\n",
      "Epoch 60/100\n",
      "38/38 [==============================] - 6s 167ms/step - loss: 0.0026\n",
      "Epoch 61/100\n",
      "38/38 [==============================] - 6s 166ms/step - loss: 0.0024\n",
      "Epoch 62/100\n",
      "38/38 [==============================] - 6s 167ms/step - loss: 0.0024\n",
      "Epoch 63/100\n",
      "38/38 [==============================] - 7s 179ms/step - loss: 0.0025\n",
      "Epoch 64/100\n",
      "38/38 [==============================] - 7s 175ms/step - loss: 0.0026\n",
      "Epoch 65/100\n",
      "38/38 [==============================] - 6s 166ms/step - loss: 0.0032\n",
      "Epoch 66/100\n",
      "38/38 [==============================] - 6s 167ms/step - loss: 0.0025\n",
      "Epoch 67/100\n",
      "38/38 [==============================] - 7s 177ms/step - loss: 0.0029 1s - \n",
      "Epoch 68/100\n",
      "38/38 [==============================] - 7s 171ms/step - loss: 0.0027\n",
      "Epoch 69/100\n",
      "38/38 [==============================] - 6s 168ms/step - loss: 0.0025\n",
      "Epoch 70/100\n",
      "38/38 [==============================] - 7s 171ms/step - loss: 0.0025\n",
      "Epoch 71/100\n",
      "38/38 [==============================] - 6s 167ms/step - loss: 0.0024\n",
      "Epoch 72/100\n",
      "38/38 [==============================] - 6s 166ms/step - loss: 0.0023\n",
      "Epoch 73/100\n",
      "38/38 [==============================] - 6s 171ms/step - loss: 0.0023\n",
      "Epoch 74/100\n",
      "38/38 [==============================] - 6s 169ms/step - loss: 0.0029\n",
      "Epoch 75/100\n",
      "38/38 [==============================] - 6s 167ms/step - loss: 0.0026\n",
      "Epoch 76/100\n",
      "38/38 [==============================] - 6s 169ms/step - loss: 0.0028\n",
      "Epoch 77/100\n",
      "38/38 [==============================] - 7s 174ms/step - loss: 0.0027\n",
      "Epoch 78/100\n",
      "38/38 [==============================] - 7s 175ms/step - loss: 0.0024\n",
      "Epoch 79/100\n",
      "38/38 [==============================] - 6s 171ms/step - loss: 0.0027\n",
      "Epoch 80/100\n",
      "38/38 [==============================] - 7s 182ms/step - loss: 0.0030\n",
      "Epoch 81/100\n",
      "38/38 [==============================] - 6s 168ms/step - loss: 0.0022\n",
      "Epoch 82/100\n",
      "38/38 [==============================] - 6s 169ms/step - loss: 0.0025\n",
      "Epoch 83/100\n",
      "38/38 [==============================] - 7s 173ms/step - loss: 0.0032\n",
      "Epoch 84/100\n",
      "38/38 [==============================] - 7s 171ms/step - loss: 0.0050\n",
      "Epoch 85/100\n",
      "38/38 [==============================] - 6s 170ms/step - loss: 0.0036\n",
      "Epoch 86/100\n",
      "38/38 [==============================] - 6s 169ms/step - loss: 0.0025\n",
      "Epoch 87/100\n",
      "38/38 [==============================] - 6s 168ms/step - loss: 0.0022\n",
      "Epoch 88/100\n",
      "38/38 [==============================] - 6s 167ms/step - loss: 0.0022\n",
      "Epoch 89/100\n",
      "38/38 [==============================] - 6s 170ms/step - loss: 0.0025\n",
      "Epoch 90/100\n",
      "38/38 [==============================] - 7s 180ms/step - loss: 0.0028\n",
      "Epoch 91/100\n",
      "38/38 [==============================] - 7s 184ms/step - loss: 0.0024\n",
      "Epoch 92/100\n",
      "38/38 [==============================] - 7s 185ms/step - loss: 0.0025\n",
      "Epoch 93/100\n",
      "38/38 [==============================] - 7s 185ms/step - loss: 0.0026\n",
      "Epoch 94/100\n",
      "38/38 [==============================] - 7s 186ms/step - loss: 0.0039\n",
      "Epoch 95/100\n",
      "38/38 [==============================] - 7s 189ms/step - loss: 0.0034\n",
      "Epoch 96/100\n",
      "38/38 [==============================] - 6s 169ms/step - loss: 0.0028\n",
      "Epoch 97/100\n",
      "38/38 [==============================] - 6s 167ms/step - loss: 0.0034\n",
      "Epoch 98/100\n",
      "38/38 [==============================] - 6s 168ms/step - loss: 0.0022\n",
      "Epoch 99/100\n"
     ]
    },
    {
     "name": "stdout",
     "output_type": "stream",
     "text": [
      "38/38 [==============================] - 6s 168ms/step - loss: 0.0020\n",
      "Epoch 100/100\n",
      "38/38 [==============================] - 7s 173ms/step - loss: 0.0021\n"
     ]
    },
    {
     "data": {
      "text/plain": [
       "<tensorflow.python.keras.callbacks.History at 0x1f9d3c58100>"
      ]
     },
     "execution_count": 10,
     "metadata": {},
     "output_type": "execute_result"
    }
   ],
   "source": [
    "# Compiling the RNN\n",
    "model.compile(optimizer = 'adam', loss = 'mean_squared_error')\n",
    "\n",
    "# Fitting the RNN to the Training set\n",
    "model.fit(X_train, y_train, epochs = 100, batch_size = 32)"
   ]
  },
  {
   "cell_type": "markdown",
   "metadata": {
    "id": "kYIVUjWlhr5p"
   },
   "source": [
    "Prepare the Test Data , Concatenate Test &  Train Datasets"
   ]
  },
  {
   "cell_type": "code",
   "execution_count": 11,
   "metadata": {
    "colab": {
     "base_uri": "https://localhost:8080/",
     "height": 370
    },
    "id": "CfhU6pT2hr5p",
    "outputId": "135239c5-a2c6-4d5f-fc13-29f2948af926"
   },
   "outputs": [
    {
     "data": {
      "text/plain": [
       "array([[1465.199951],\n",
       "       [1520.01001 ],\n",
       "       [1530.      ],\n",
       "       [1602.310059],\n",
       "       [1664.689941],\n",
       "       [1652.97998 ],\n",
       "       [1641.01001 ],\n",
       "       [1640.550049],\n",
       "       [1615.      ],\n",
       "       [1632.      ],\n",
       "       [1684.219971],\n",
       "       [1680.      ],\n",
       "       [1712.      ],\n",
       "       [1681.      ],\n",
       "       [1656.      ],\n",
       "       [1641.069946],\n",
       "       [1670.5     ],\n",
       "       [1643.589966],\n",
       "       [1631.27002 ],\n",
       "       [1623.      ],\n",
       "       [1692.849976]])"
      ]
     },
     "execution_count": 11,
     "metadata": {},
     "output_type": "execute_result"
    }
   ],
   "source": [
    "dataset_testing = pd.read_csv('F:/ML_project/project/testing/Predicting-the-Trend-of-Stock-Price-Using-LSTM/dataset/AMZN_test.csv')\n",
    "actual_stock_price = dataset_testing[['Open']].values\n",
    "actual_stock_price"
   ]
  },
  {
   "cell_type": "code",
   "execution_count": 12,
   "metadata": {
    "id": "ublS7zzEhr5s"
   },
   "outputs": [],
   "source": [
    "total_data = pd.concat((dataset_training['Open'], dataset_testing['Open']), axis = 0)\n",
    "inputs = total_data[len(total_data) - len(dataset_testing) - 60:].values\n",
    "inputs = inputs.reshape(-1,1)\n",
    "inputs = sc.transform(inputs)\n",
    "X_test = []\n",
    "for i in range(60, 81):\n",
    "    X_test.append(inputs[i-60:i, 0])\n",
    "X_test = np.array(X_test)\n",
    "X_test = np.reshape(X_test, (X_test.shape[0], X_test.shape[1], 1))\n",
    "\n",
    "predicted_stock_price = model.predict(X_test)\n",
    "predicted_stock_price = sc.inverse_transform(predicted_stock_price)"
   ]
  },
  {
   "cell_type": "markdown",
   "metadata": {
    "id": "ghEvxsXphr5v"
   },
   "source": [
    "Visualize the Results"
   ]
  },
  {
   "cell_type": "code",
   "execution_count": 13,
   "metadata": {
    "colab": {
     "base_uri": "https://localhost:8080/",
     "height": 295
    },
    "id": "CSvi-dVUhr5v",
    "outputId": "b73991df-ca6b-47fd-8b69-e628842488d7"
   },
   "outputs": [
    {
     "data": {
      "image/png": "[encoded data removed]",
      "text/plain": [
       "<Figure size 432x288 with 1 Axes>"
      ]
     },
     "metadata": {
      "needs_background": "light"
     },
     "output_type": "display_data"
    }
   ],
   "source": [
    "# Visualising the results\n",
    "plt.plot(actual_stock_price, color = 'green', label = 'Real Amazon Stock Price',ls='--')\n",
    "plt.plot(predicted_stock_price, color = 'red', label = 'Predicted Amazon Stock Price',ls='-')\n",
    "plt.title('Predicted Stock Price')\n",
    "plt.xlabel('Time in days')\n",
    "plt.ylabel('Real Stock Price')\n",
    "plt.legend()\n",
    "plt.show()"
   ]
  },
  {
   "cell_type": "code",
   "execution_count": null,
   "metadata": {
    "id": "FRl84vuonBBT"
   },
   "outputs": [],
   "source": []
  }
 ],
 "metadata": {
  "colab": {
   "name": "Predicting the Trend of Stock Price Using LSTM.ipynb",
   "provenance": []
  },
  "kernelspec": {
   "display_name": "Python 3",
   "language": "python",
   "name": "python3"
  },
  "language_info": {
   "codemirror_mode": {
    "name": "ipython",
    "version": 3
   },
   "file_extension": ".py",
   "mimetype": "text/x-python",
   "name": "python",
   "nbconvert_exporter": "python",
   "pygments_lexer": "ipython3",
   "version": "3.8.2"
  }
 },
 "nbformat": 4,
 "nbformat_minor": 1
}
